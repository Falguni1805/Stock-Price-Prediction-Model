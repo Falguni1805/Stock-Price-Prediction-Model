{
 "cells": [
  {
   "cell_type": "markdown",
   "id": "3d133589-5dbd-468a-83b6-aadd43b4bbe2",
   "metadata": {},
   "source": [
    "1. Import necessary libraries"
   ]
  },
  {
   "cell_type": "code",
   "execution_count": 1,
   "id": "f47942f3-156a-4ab1-b5df-be22b090b114",
   "metadata": {
    "tags": []
   },
   "outputs": [],
   "source": [
    "# Regular EDA and plotting libraries\n",
    "import numpy as np \n",
    "import pandas as pd\n",
    "import matplotlib.pyplot as plt\n",
    "from yellowbrick.regressor import PredictionError\n",
    "\n",
    "#To get rid of warnings\n",
    "import warnings\n",
    "warnings.filterwarnings(\"ignore\")\n",
    "\n",
    "# We want our plots to appear in the notebook\n",
    "%matplotlib inline\n",
    "\n",
    "## Models\n",
    "from sklearn import linear_model\n",
    "from sklearn.linear_model import LinearRegression\n",
    "from sklearn.ensemble import RandomForestRegressor\n",
    "\n",
    "## Model evaluators\n",
    "from sklearn.model_selection import train_test_split, cross_val_score\n",
    "from sklearn.preprocessing import LabelEncoder\n",
    "from sklearn.metrics import r2_score, mean_absolute_error, mean_squared_error"
   ]
  },
  {
   "cell_type": "code",
   "execution_count": 2,
   "id": "9afa6fba-38d2-4bf6-84b6-0fff50a78e95",
   "metadata": {
    "tags": []
   },
   "outputs": [
    {
     "data": {
      "text/html": [
       "<div>\n",
       "<style scoped>\n",
       "    .dataframe tbody tr th:only-of-type {\n",
       "        vertical-align: middle;\n",
       "    }\n",
       "\n",
       "    .dataframe tbody tr th {\n",
       "        vertical-align: top;\n",
       "    }\n",
       "\n",
       "    .dataframe thead th {\n",
       "        text-align: right;\n",
       "    }\n",
       "</style>\n",
       "<table border=\"1\" class=\"dataframe\">\n",
       "  <thead>\n",
       "    <tr style=\"text-align: right;\">\n",
       "      <th></th>\n",
       "      <th>Stock Index</th>\n",
       "      <th>Index</th>\n",
       "      <th>Industry</th>\n",
       "      <th>VWAP</th>\n",
       "      <th>General Index</th>\n",
       "      <th>NAV</th>\n",
       "      <th>P/E Ratio</th>\n",
       "      <th>Volumes Traded</th>\n",
       "      <th>Inventory Turnover</th>\n",
       "      <th>Covid Impact (Beta)</th>\n",
       "      <th>Tracking Error</th>\n",
       "      <th>Dollar Exchange Rate</th>\n",
       "      <th>Put-Call Ratio</th>\n",
       "      <th>P/B Ratio</th>\n",
       "      <th>Stock Price</th>\n",
       "    </tr>\n",
       "  </thead>\n",
       "  <tbody>\n",
       "    <tr>\n",
       "      <th>0</th>\n",
       "      <td>AA1</td>\n",
       "      <td>NYSE</td>\n",
       "      <td>Real Estate</td>\n",
       "      <td>700.29</td>\n",
       "      <td>12765.84</td>\n",
       "      <td>32.38</td>\n",
       "      <td>45.35</td>\n",
       "      <td>1208599.0</td>\n",
       "      <td>5.05</td>\n",
       "      <td>-0.43</td>\n",
       "      <td>0.0520</td>\n",
       "      <td>1.0</td>\n",
       "      <td>0.61</td>\n",
       "      <td>9.20</td>\n",
       "      <td>156.987852</td>\n",
       "    </tr>\n",
       "    <tr>\n",
       "      <th>1</th>\n",
       "      <td>AA2</td>\n",
       "      <td>NYSE</td>\n",
       "      <td>Information Tech</td>\n",
       "      <td>214.52</td>\n",
       "      <td>12765.84</td>\n",
       "      <td>33.25</td>\n",
       "      <td>170.56</td>\n",
       "      <td>13753356.0</td>\n",
       "      <td>3.10</td>\n",
       "      <td>0.23</td>\n",
       "      <td>0.0164</td>\n",
       "      <td>1.0</td>\n",
       "      <td>NaN</td>\n",
       "      <td>6.91</td>\n",
       "      <td>560.859622</td>\n",
       "    </tr>\n",
       "    <tr>\n",
       "      <th>2</th>\n",
       "      <td>AA3</td>\n",
       "      <td>NYSE</td>\n",
       "      <td>Information Tech</td>\n",
       "      <td>943.42</td>\n",
       "      <td>12765.84</td>\n",
       "      <td>88.27</td>\n",
       "      <td>143.58</td>\n",
       "      <td>6892003.0</td>\n",
       "      <td>7.70</td>\n",
       "      <td>0.23</td>\n",
       "      <td>0.0396</td>\n",
       "      <td>1.0</td>\n",
       "      <td>NaN</td>\n",
       "      <td>6.09</td>\n",
       "      <td>1279.732874</td>\n",
       "    </tr>\n",
       "    <tr>\n",
       "      <th>3</th>\n",
       "      <td>AA4</td>\n",
       "      <td>BSE</td>\n",
       "      <td>Materials</td>\n",
       "      <td>828.13</td>\n",
       "      <td>38182.08</td>\n",
       "      <td>73.66</td>\n",
       "      <td>151.76</td>\n",
       "      <td>8316793.0</td>\n",
       "      <td>4.80</td>\n",
       "      <td>0.03</td>\n",
       "      <td>0.0431</td>\n",
       "      <td>74.9</td>\n",
       "      <td>1.11</td>\n",
       "      <td>5.60</td>\n",
       "      <td>1121.787632</td>\n",
       "    </tr>\n",
       "    <tr>\n",
       "      <th>4</th>\n",
       "      <td>AA5</td>\n",
       "      <td>S&amp;P 500</td>\n",
       "      <td>Real Estate</td>\n",
       "      <td>NaN</td>\n",
       "      <td>3351.28</td>\n",
       "      <td>23.79</td>\n",
       "      <td>NaN</td>\n",
       "      <td>3943312.0</td>\n",
       "      <td>8.06</td>\n",
       "      <td>-0.43</td>\n",
       "      <td>0.0244</td>\n",
       "      <td>1.0</td>\n",
       "      <td>1.07</td>\n",
       "      <td>9.46</td>\n",
       "      <td>382.962534</td>\n",
       "    </tr>\n",
       "  </tbody>\n",
       "</table>\n",
       "</div>"
      ],
      "text/plain": [
       "  Stock Index    Index          Industry    VWAP  General Index    NAV  \\\n",
       "0         AA1     NYSE       Real Estate  700.29       12765.84  32.38   \n",
       "1         AA2     NYSE  Information Tech  214.52       12765.84  33.25   \n",
       "2         AA3     NYSE  Information Tech  943.42       12765.84  88.27   \n",
       "3         AA4      BSE         Materials  828.13       38182.08  73.66   \n",
       "4         AA5  S&P 500       Real Estate     NaN        3351.28  23.79   \n",
       "\n",
       "   P/E Ratio  Volumes Traded  Inventory Turnover  Covid Impact (Beta)  \\\n",
       "0      45.35       1208599.0                5.05                -0.43   \n",
       "1     170.56      13753356.0                3.10                 0.23   \n",
       "2     143.58       6892003.0                7.70                 0.23   \n",
       "3     151.76       8316793.0                4.80                 0.03   \n",
       "4        NaN       3943312.0                8.06                -0.43   \n",
       "\n",
       "   Tracking Error  Dollar Exchange Rate  Put-Call Ratio  P/B Ratio  \\\n",
       "0          0.0520                   1.0            0.61       9.20   \n",
       "1          0.0164                   1.0             NaN       6.91   \n",
       "2          0.0396                   1.0             NaN       6.09   \n",
       "3          0.0431                  74.9            1.11       5.60   \n",
       "4          0.0244                   1.0            1.07       9.46   \n",
       "\n",
       "   Stock Price  \n",
       "0   156.987852  \n",
       "1   560.859622  \n",
       "2  1279.732874  \n",
       "3  1121.787632  \n",
       "4   382.962534  "
      ]
     },
     "execution_count": 2,
     "metadata": {},
     "output_type": "execute_result"
    }
   ],
   "source": [
    "train_data = pd.read_csv(\"data/Train_dataset_ - Train_Aug10.csv\")\n",
    "train_data.head()"
   ]
  },
  {
   "cell_type": "code",
   "execution_count": 3,
   "id": "f1a47ee6-3a3c-4ee9-8166-3ca417aea7c3",
   "metadata": {
    "tags": []
   },
   "outputs": [
    {
     "name": "stdout",
     "output_type": "stream",
     "text": [
      "<class 'pandas.core.frame.DataFrame'>\n",
      "RangeIndex: 7383 entries, 0 to 7382\n",
      "Data columns (total 15 columns):\n",
      " #   Column                Non-Null Count  Dtype  \n",
      "---  ------                --------------  -----  \n",
      " 0   Stock Index           7383 non-null   object \n",
      " 1   Index                 7383 non-null   object \n",
      " 2   Industry              7383 non-null   object \n",
      " 3   VWAP                  7345 non-null   float64\n",
      " 4   General Index         7321 non-null   float64\n",
      " 5   NAV                   7322 non-null   float64\n",
      " 6   P/E Ratio             7149 non-null   float64\n",
      " 7   Volumes Traded        7115 non-null   float64\n",
      " 8   Inventory Turnover    6984 non-null   float64\n",
      " 9   Covid Impact (Beta)   7007 non-null   float64\n",
      " 10  Tracking Error        7312 non-null   float64\n",
      " 11  Dollar Exchange Rate  7306 non-null   float64\n",
      " 12  Put-Call Ratio        7298 non-null   float64\n",
      " 13  P/B Ratio             7358 non-null   float64\n",
      " 14  Stock Price           7383 non-null   float64\n",
      "dtypes: float64(12), object(3)\n",
      "memory usage: 865.3+ KB\n"
     ]
    }
   ],
   "source": [
    "train_data.info() #Gives Insight about different Attributes"
   ]
  },
  {
   "cell_type": "markdown",
   "id": "d5fbedb3-8410-4453-abf8-6ee19a0c414a",
   "metadata": {},
   "source": [
    "2. Handle Missing Data"
   ]
  },
  {
   "cell_type": "code",
   "execution_count": 4,
   "id": "261b9f03-4bf8-4f8a-8f3b-bdd808d6db56",
   "metadata": {
    "tags": []
   },
   "outputs": [
    {
     "data": {
      "text/plain": [
       "Stock Index               0\n",
       "Index                     0\n",
       "Industry                  0\n",
       "VWAP                     38\n",
       "General Index            62\n",
       "NAV                      61\n",
       "P/E Ratio               234\n",
       "Volumes Traded          268\n",
       "Inventory Turnover      399\n",
       "Covid Impact (Beta)     376\n",
       "Tracking Error           71\n",
       "Dollar Exchange Rate     77\n",
       "Put-Call Ratio           85\n",
       "P/B Ratio                25\n",
       "Stock Price               0\n",
       "dtype: int64"
      ]
     },
     "execution_count": 4,
     "metadata": {},
     "output_type": "execute_result"
    }
   ],
   "source": [
    "train_data.isna().sum() #Gives the number of missing values in each column"
   ]
  },
  {
   "cell_type": "code",
   "execution_count": 5,
   "id": "993ffd6b-1578-44f6-b9ad-5a68a01dced9",
   "metadata": {
    "tags": []
   },
   "outputs": [
    {
     "data": {
      "text/html": [
       "<div>\n",
       "<style scoped>\n",
       "    .dataframe tbody tr th:only-of-type {\n",
       "        vertical-align: middle;\n",
       "    }\n",
       "\n",
       "    .dataframe tbody tr th {\n",
       "        vertical-align: top;\n",
       "    }\n",
       "\n",
       "    .dataframe thead th {\n",
       "        text-align: right;\n",
       "    }\n",
       "</style>\n",
       "<table border=\"1\" class=\"dataframe\">\n",
       "  <thead>\n",
       "    <tr style=\"text-align: right;\">\n",
       "      <th>Dollar Exchange Rate</th>\n",
       "      <th>1.0</th>\n",
       "      <th>17.7</th>\n",
       "      <th>74.9</th>\n",
       "    </tr>\n",
       "    <tr>\n",
       "      <th>Index</th>\n",
       "      <th></th>\n",
       "      <th></th>\n",
       "      <th></th>\n",
       "    </tr>\n",
       "  </thead>\n",
       "  <tbody>\n",
       "    <tr>\n",
       "      <th>BSE</th>\n",
       "      <td>0</td>\n",
       "      <td>0</td>\n",
       "      <td>1447</td>\n",
       "    </tr>\n",
       "    <tr>\n",
       "      <th>JSE</th>\n",
       "      <td>0</td>\n",
       "      <td>1463</td>\n",
       "      <td>0</td>\n",
       "    </tr>\n",
       "    <tr>\n",
       "      <th>NSE</th>\n",
       "      <td>0</td>\n",
       "      <td>0</td>\n",
       "      <td>1484</td>\n",
       "    </tr>\n",
       "    <tr>\n",
       "      <th>NYSE</th>\n",
       "      <td>1454</td>\n",
       "      <td>0</td>\n",
       "      <td>0</td>\n",
       "    </tr>\n",
       "    <tr>\n",
       "      <th>S&amp;P 500</th>\n",
       "      <td>1458</td>\n",
       "      <td>0</td>\n",
       "      <td>0</td>\n",
       "    </tr>\n",
       "  </tbody>\n",
       "</table>\n",
       "</div>"
      ],
      "text/plain": [
       "Dollar Exchange Rate  1.0   17.7  74.9\n",
       "Index                                 \n",
       "BSE                      0     0  1447\n",
       "JSE                      0  1463     0\n",
       "NSE                      0     0  1484\n",
       "NYSE                  1454     0     0\n",
       "S&P 500               1458     0     0"
      ]
     },
     "execution_count": 5,
     "metadata": {},
     "output_type": "execute_result"
    }
   ],
   "source": [
    "pd.crosstab(train_data['Index'],train_data['Dollar Exchange Rate'])"
   ]
  },
  {
   "cell_type": "code",
   "execution_count": 6,
   "id": "062c4d04-57c1-4db4-8e8b-a6201e0d3ad3",
   "metadata": {
    "tags": []
   },
   "outputs": [],
   "source": [
    "train_data.loc[train_data[\"Index\"]==\"NSE\", [\"Dollar Exchange Rate\"]] = 74.9\n",
    "train_data.loc[train_data[\"Index\"]==\"NYSE\", [\"Dollar Exchange Rate\"]] = 1.0\n",
    "train_data.loc[train_data[\"Index\"]==\"BSE\", [\"Dollar Exchange Rate\"]] = 74.9\n",
    "train_data.loc[train_data[\"Index\"]==\"JSE\", [\"Dollar Exchange Rate\"]] = 17.7\n",
    "train_data.loc[train_data[\"Index\"]==\"S&P 500\", [\"Dollar Exchange Rate\"]] = 1.0"
   ]
  },
  {
   "cell_type": "code",
   "execution_count": 7,
   "id": "5e2d9180-272f-4a94-979e-55810714c9e3",
   "metadata": {
    "tags": []
   },
   "outputs": [
    {
     "data": {
      "text/html": [
       "<div>\n",
       "<style scoped>\n",
       "    .dataframe tbody tr th:only-of-type {\n",
       "        vertical-align: middle;\n",
       "    }\n",
       "\n",
       "    .dataframe tbody tr th {\n",
       "        vertical-align: top;\n",
       "    }\n",
       "\n",
       "    .dataframe thead th {\n",
       "        text-align: right;\n",
       "    }\n",
       "</style>\n",
       "<table border=\"1\" class=\"dataframe\">\n",
       "  <thead>\n",
       "    <tr style=\"text-align: right;\">\n",
       "      <th>Covid Impact (Beta)</th>\n",
       "      <th>-0.43</th>\n",
       "      <th>0.03</th>\n",
       "      <th>0.11</th>\n",
       "      <th>0.23</th>\n",
       "      <th>0.78</th>\n",
       "    </tr>\n",
       "    <tr>\n",
       "      <th>Industry</th>\n",
       "      <th></th>\n",
       "      <th></th>\n",
       "      <th></th>\n",
       "      <th></th>\n",
       "      <th></th>\n",
       "    </tr>\n",
       "  </thead>\n",
       "  <tbody>\n",
       "    <tr>\n",
       "      <th>Energy</th>\n",
       "      <td>0</td>\n",
       "      <td>0</td>\n",
       "      <td>1431</td>\n",
       "      <td>0</td>\n",
       "      <td>0</td>\n",
       "    </tr>\n",
       "    <tr>\n",
       "      <th>Healthcare</th>\n",
       "      <td>0</td>\n",
       "      <td>0</td>\n",
       "      <td>0</td>\n",
       "      <td>0</td>\n",
       "      <td>1359</td>\n",
       "    </tr>\n",
       "    <tr>\n",
       "      <th>Information Tech</th>\n",
       "      <td>0</td>\n",
       "      <td>0</td>\n",
       "      <td>0</td>\n",
       "      <td>1389</td>\n",
       "      <td>0</td>\n",
       "    </tr>\n",
       "    <tr>\n",
       "      <th>Materials</th>\n",
       "      <td>0</td>\n",
       "      <td>1445</td>\n",
       "      <td>0</td>\n",
       "      <td>0</td>\n",
       "      <td>0</td>\n",
       "    </tr>\n",
       "    <tr>\n",
       "      <th>Real Estate</th>\n",
       "      <td>1383</td>\n",
       "      <td>0</td>\n",
       "      <td>0</td>\n",
       "      <td>0</td>\n",
       "      <td>0</td>\n",
       "    </tr>\n",
       "  </tbody>\n",
       "</table>\n",
       "</div>"
      ],
      "text/plain": [
       "Covid Impact (Beta)  -0.43   0.03   0.11   0.23   0.78\n",
       "Industry                                              \n",
       "Energy                   0      0   1431      0      0\n",
       "Healthcare               0      0      0      0   1359\n",
       "Information Tech         0      0      0   1389      0\n",
       "Materials                0   1445      0      0      0\n",
       "Real Estate           1383      0      0      0      0"
      ]
     },
     "execution_count": 7,
     "metadata": {},
     "output_type": "execute_result"
    }
   ],
   "source": [
    "pd.crosstab(train_data['Industry'],train_data['Covid Impact (Beta)'])"
   ]
  },
  {
   "cell_type": "code",
   "execution_count": 8,
   "id": "6e4b6b0b-bae3-4d19-ba46-4afb9caf2a5f",
   "metadata": {
    "tags": []
   },
   "outputs": [],
   "source": [
    "train_data.loc[train_data[\"Industry\"]==\"Real Estate\", [\"Covid Impact (Beta)\"]] = -0.43\n",
    "train_data.loc[train_data[\"Industry\"]==\"Energy\", [\"Covid Impact (Beta)\"]] = 0.11\n",
    "train_data.loc[train_data[\"Industry\"]==\"Healthcare\", [\"Covid Impact (Beta)\"]] = 0.78\n",
    "train_data.loc[train_data[\"Industry\"]==\"Materials\", [\"Covid Impact (Beta)\"]] = 0.03\n",
    "train_data.loc[train_data[\"Industry\"]==\"Information Tech\", [\"Covid Impact (Beta)\"]] = 0.23"
   ]
  },
  {
   "cell_type": "code",
   "execution_count": 9,
   "id": "43884473-3c97-4d0c-8937-83144a7c14f7",
   "metadata": {
    "tags": []
   },
   "outputs": [
    {
     "data": {
      "text/html": [
       "<div>\n",
       "<style scoped>\n",
       "    .dataframe tbody tr th:only-of-type {\n",
       "        vertical-align: middle;\n",
       "    }\n",
       "\n",
       "    .dataframe tbody tr th {\n",
       "        vertical-align: top;\n",
       "    }\n",
       "\n",
       "    .dataframe thead th {\n",
       "        text-align: right;\n",
       "    }\n",
       "</style>\n",
       "<table border=\"1\" class=\"dataframe\">\n",
       "  <thead>\n",
       "    <tr style=\"text-align: right;\">\n",
       "      <th>General Index</th>\n",
       "      <th>3351.28</th>\n",
       "      <th>11270.15</th>\n",
       "      <th>12765.84</th>\n",
       "      <th>38182.08</th>\n",
       "      <th>55722.00</th>\n",
       "    </tr>\n",
       "    <tr>\n",
       "      <th>Index</th>\n",
       "      <th></th>\n",
       "      <th></th>\n",
       "      <th></th>\n",
       "      <th></th>\n",
       "      <th></th>\n",
       "    </tr>\n",
       "  </thead>\n",
       "  <tbody>\n",
       "    <tr>\n",
       "      <th>BSE</th>\n",
       "      <td>0</td>\n",
       "      <td>0</td>\n",
       "      <td>0</td>\n",
       "      <td>1453</td>\n",
       "      <td>0</td>\n",
       "    </tr>\n",
       "    <tr>\n",
       "      <th>JSE</th>\n",
       "      <td>0</td>\n",
       "      <td>0</td>\n",
       "      <td>0</td>\n",
       "      <td>0</td>\n",
       "      <td>1464</td>\n",
       "    </tr>\n",
       "    <tr>\n",
       "      <th>NSE</th>\n",
       "      <td>0</td>\n",
       "      <td>1485</td>\n",
       "      <td>0</td>\n",
       "      <td>0</td>\n",
       "      <td>0</td>\n",
       "    </tr>\n",
       "    <tr>\n",
       "      <th>NYSE</th>\n",
       "      <td>0</td>\n",
       "      <td>0</td>\n",
       "      <td>1458</td>\n",
       "      <td>0</td>\n",
       "      <td>0</td>\n",
       "    </tr>\n",
       "    <tr>\n",
       "      <th>S&amp;P 500</th>\n",
       "      <td>1461</td>\n",
       "      <td>0</td>\n",
       "      <td>0</td>\n",
       "      <td>0</td>\n",
       "      <td>0</td>\n",
       "    </tr>\n",
       "  </tbody>\n",
       "</table>\n",
       "</div>"
      ],
      "text/plain": [
       "General Index  3351.28   11270.15  12765.84  38182.08  55722.00\n",
       "Index                                                          \n",
       "BSE                   0         0         0      1453         0\n",
       "JSE                   0         0         0         0      1464\n",
       "NSE                   0      1485         0         0         0\n",
       "NYSE                  0         0      1458         0         0\n",
       "S&P 500            1461         0         0         0         0"
      ]
     },
     "execution_count": 9,
     "metadata": {},
     "output_type": "execute_result"
    }
   ],
   "source": [
    "pd.crosstab(train_data['Index'],train_data['General Index'])"
   ]
  },
  {
   "cell_type": "code",
   "execution_count": 10,
   "id": "192931cc-6b72-4e81-a39a-0ac0556390b4",
   "metadata": {
    "tags": []
   },
   "outputs": [],
   "source": [
    "train_data.loc[train_data[\"Index\"]==\"NSE\", [\"General Index\"]] = 11270.15\n",
    "train_data.loc[train_data[\"Index\"]==\"NYSE\", [\"General Index\"]] = 12765.84\n",
    "train_data.loc[train_data[\"Index\"]==\"BSE\", [\"General Index\"]] = 38182.08\n",
    "train_data.loc[train_data[\"Index\"]==\"JSE\", [\"General Index\"]] = 55722.00\n",
    "train_data.loc[train_data[\"Index\"]==\"S&P 500\", [\"General Index\"]] = 3351.28"
   ]
  },
  {
   "cell_type": "code",
   "execution_count": 11,
   "id": "ebf351a0-7d2a-4dc7-b474-bbfb10af205e",
   "metadata": {
    "tags": []
   },
   "outputs": [],
   "source": [
    "train_data[\"Volumes Traded\"].fillna(train_data[\"Volumes Traded\"].mean(),inplace = True)\n",
    "train_data[\"P/E Ratio\"].fillna(train_data[\"P/E Ratio\"].mean(),inplace = True)\n",
    "train_data[\"Inventory Turnover\"].fillna(train_data[\"Inventory Turnover\"].mean(),inplace = True)\n",
    "train_data[\"Tracking Error\"].fillna(train_data[\"Tracking Error\"].mean(),inplace = True)\n",
    "train_data[\"Put-Call Ratio\"].fillna(train_data[\"Put-Call Ratio\"].mean(),inplace = True)"
   ]
  },
  {
   "cell_type": "code",
   "execution_count": 12,
   "id": "f7fe1a89-0a3d-40ba-afbe-cd10c84e0b7c",
   "metadata": {
    "tags": []
   },
   "outputs": [],
   "source": [
    "train_data.dropna(inplace=True)"
   ]
  },
  {
   "cell_type": "code",
   "execution_count": 13,
   "id": "b8bbce52-21ca-40fb-b9aa-9b6f3c1da019",
   "metadata": {
    "tags": []
   },
   "outputs": [
    {
     "data": {
      "text/plain": [
       "Stock Index             0\n",
       "Index                   0\n",
       "Industry                0\n",
       "VWAP                    0\n",
       "General Index           0\n",
       "NAV                     0\n",
       "P/E Ratio               0\n",
       "Volumes Traded          0\n",
       "Inventory Turnover      0\n",
       "Covid Impact (Beta)     0\n",
       "Tracking Error          0\n",
       "Dollar Exchange Rate    0\n",
       "Put-Call Ratio          0\n",
       "P/B Ratio               0\n",
       "Stock Price             0\n",
       "dtype: int64"
      ]
     },
     "execution_count": 13,
     "metadata": {},
     "output_type": "execute_result"
    }
   ],
   "source": [
    "train_data.isna().sum() #Finally all the Missing Data is handled"
   ]
  },
  {
   "cell_type": "code",
   "execution_count": 14,
   "id": "47bd5a39-692a-4caf-9f10-f3a2e9adde2b",
   "metadata": {
    "tags": []
   },
   "outputs": [
    {
     "data": {
      "text/plain": [
       "7285"
      ]
     },
     "execution_count": 14,
     "metadata": {},
     "output_type": "execute_result"
    }
   ],
   "source": [
    "len(train_data) #Length of the Data is 7285"
   ]
  },
  {
   "cell_type": "markdown",
   "id": "8ce5545b-bac3-4fd3-8c6f-0ead1eca0d8c",
   "metadata": {},
   "source": [
    "3. Preprocess Data"
   ]
  },
  {
   "cell_type": "code",
   "execution_count": 15,
   "id": "590a7184-0d0d-4c59-b9a5-7242f71fe19f",
   "metadata": {
    "tags": []
   },
   "outputs": [],
   "source": [
    "le =LabelEncoder()\n",
    "\n",
    "label = le.fit_transform(train_data[\"Industry\"])  #Label encoded the Industry column\n",
    "label1 = le.fit_transform(train_data[\"Index\"])    #Label encoded the Index column"
   ]
  },
  {
   "cell_type": "code",
   "execution_count": 16,
   "id": "4570adf4-be97-4a95-93a3-f3c61261bcda",
   "metadata": {
    "tags": []
   },
   "outputs": [],
   "source": [
    "train_data.drop(\"Industry\",axis=1,inplace=True)\n",
    "train_data[\"Industry\"] = label\n",
    "#Dropped the Previous column and added new encoded column for Industry.\n",
    "\n",
    "train_data.drop(\"Index\",axis=1,inplace=True)\n",
    "train_data[\"Index\"] = label1\n",
    "#Dropped the Previous column and added new encoded column for Index.\n",
    "\n",
    "train_data.drop(\"Stock Index\", axis=1, inplace=True)\n",
    "#The Stock Index is dropped because its just index and not used to predict anything."
   ]
  },
  {
   "cell_type": "code",
   "execution_count": 17,
   "id": "90f736c2-d2fc-4aa3-903c-2218107398c1",
   "metadata": {
    "tags": []
   },
   "outputs": [],
   "source": [
    "X = train_data.drop(\"Stock Price\", axis =1)\n",
    "Y = train_data[\"Stock Price\"]"
   ]
  },
  {
   "cell_type": "code",
   "execution_count": 18,
   "id": "6ac6c587-b0c1-4ab8-90fe-f3364fc8cc5b",
   "metadata": {
    "tags": []
   },
   "outputs": [
    {
     "data": {
      "text/html": [
       "<div>\n",
       "<style scoped>\n",
       "    .dataframe tbody tr th:only-of-type {\n",
       "        vertical-align: middle;\n",
       "    }\n",
       "\n",
       "    .dataframe tbody tr th {\n",
       "        vertical-align: top;\n",
       "    }\n",
       "\n",
       "    .dataframe thead th {\n",
       "        text-align: right;\n",
       "    }\n",
       "</style>\n",
       "<table border=\"1\" class=\"dataframe\">\n",
       "  <thead>\n",
       "    <tr style=\"text-align: right;\">\n",
       "      <th></th>\n",
       "      <th>VWAP</th>\n",
       "      <th>General Index</th>\n",
       "      <th>NAV</th>\n",
       "      <th>P/E Ratio</th>\n",
       "      <th>Volumes Traded</th>\n",
       "      <th>Inventory Turnover</th>\n",
       "      <th>Covid Impact (Beta)</th>\n",
       "      <th>Tracking Error</th>\n",
       "      <th>Dollar Exchange Rate</th>\n",
       "      <th>Put-Call Ratio</th>\n",
       "      <th>P/B Ratio</th>\n",
       "      <th>Industry</th>\n",
       "      <th>Index</th>\n",
       "    </tr>\n",
       "  </thead>\n",
       "  <tbody>\n",
       "    <tr>\n",
       "      <th>0</th>\n",
       "      <td>700.29</td>\n",
       "      <td>12765.84</td>\n",
       "      <td>32.38</td>\n",
       "      <td>45.35</td>\n",
       "      <td>1208599.0</td>\n",
       "      <td>5.05</td>\n",
       "      <td>-0.43</td>\n",
       "      <td>0.0520</td>\n",
       "      <td>1.0</td>\n",
       "      <td>0.610000</td>\n",
       "      <td>9.20</td>\n",
       "      <td>4</td>\n",
       "      <td>3</td>\n",
       "    </tr>\n",
       "    <tr>\n",
       "      <th>1</th>\n",
       "      <td>214.52</td>\n",
       "      <td>12765.84</td>\n",
       "      <td>33.25</td>\n",
       "      <td>170.56</td>\n",
       "      <td>13753356.0</td>\n",
       "      <td>3.10</td>\n",
       "      <td>0.23</td>\n",
       "      <td>0.0164</td>\n",
       "      <td>1.0</td>\n",
       "      <td>0.944722</td>\n",
       "      <td>6.91</td>\n",
       "      <td>2</td>\n",
       "      <td>3</td>\n",
       "    </tr>\n",
       "    <tr>\n",
       "      <th>2</th>\n",
       "      <td>943.42</td>\n",
       "      <td>12765.84</td>\n",
       "      <td>88.27</td>\n",
       "      <td>143.58</td>\n",
       "      <td>6892003.0</td>\n",
       "      <td>7.70</td>\n",
       "      <td>0.23</td>\n",
       "      <td>0.0396</td>\n",
       "      <td>1.0</td>\n",
       "      <td>0.944722</td>\n",
       "      <td>6.09</td>\n",
       "      <td>2</td>\n",
       "      <td>3</td>\n",
       "    </tr>\n",
       "    <tr>\n",
       "      <th>3</th>\n",
       "      <td>828.13</td>\n",
       "      <td>38182.08</td>\n",
       "      <td>73.66</td>\n",
       "      <td>151.76</td>\n",
       "      <td>8316793.0</td>\n",
       "      <td>4.80</td>\n",
       "      <td>0.03</td>\n",
       "      <td>0.0431</td>\n",
       "      <td>74.9</td>\n",
       "      <td>1.110000</td>\n",
       "      <td>5.60</td>\n",
       "      <td>3</td>\n",
       "      <td>0</td>\n",
       "    </tr>\n",
       "    <tr>\n",
       "      <th>5</th>\n",
       "      <td>259.61</td>\n",
       "      <td>38182.08</td>\n",
       "      <td>10.63</td>\n",
       "      <td>153.05</td>\n",
       "      <td>19263869.0</td>\n",
       "      <td>8.04</td>\n",
       "      <td>0.03</td>\n",
       "      <td>0.0344</td>\n",
       "      <td>74.9</td>\n",
       "      <td>1.150000</td>\n",
       "      <td>5.51</td>\n",
       "      <td>3</td>\n",
       "      <td>0</td>\n",
       "    </tr>\n",
       "  </tbody>\n",
       "</table>\n",
       "</div>"
      ],
      "text/plain": [
       "     VWAP  General Index    NAV  P/E Ratio  Volumes Traded  \\\n",
       "0  700.29       12765.84  32.38      45.35       1208599.0   \n",
       "1  214.52       12765.84  33.25     170.56      13753356.0   \n",
       "2  943.42       12765.84  88.27     143.58       6892003.0   \n",
       "3  828.13       38182.08  73.66     151.76       8316793.0   \n",
       "5  259.61       38182.08  10.63     153.05      19263869.0   \n",
       "\n",
       "   Inventory Turnover  Covid Impact (Beta)  Tracking Error  \\\n",
       "0                5.05                -0.43          0.0520   \n",
       "1                3.10                 0.23          0.0164   \n",
       "2                7.70                 0.23          0.0396   \n",
       "3                4.80                 0.03          0.0431   \n",
       "5                8.04                 0.03          0.0344   \n",
       "\n",
       "   Dollar Exchange Rate  Put-Call Ratio  P/B Ratio  Industry  Index  \n",
       "0                   1.0        0.610000       9.20         4      3  \n",
       "1                   1.0        0.944722       6.91         2      3  \n",
       "2                   1.0        0.944722       6.09         2      3  \n",
       "3                  74.9        1.110000       5.60         3      0  \n",
       "5                  74.9        1.150000       5.51         3      0  "
      ]
     },
     "execution_count": 18,
     "metadata": {},
     "output_type": "execute_result"
    }
   ],
   "source": [
    "X.head()"
   ]
  },
  {
   "cell_type": "code",
   "execution_count": 19,
   "id": "14998233-3513-44b3-a9f0-c1082e24c3d1",
   "metadata": {
    "tags": []
   },
   "outputs": [],
   "source": [
    "# Spliting the Data into train and test(Validation) Data \n",
    "x_train, x_test, y_train, y_test = train_test_split(X, Y, test_size=0.2)"
   ]
  },
  {
   "cell_type": "code",
   "execution_count": 20,
   "id": "aafc0960-8b70-4a9a-ab98-7c405d54b7a5",
   "metadata": {
    "tags": []
   },
   "outputs": [
    {
     "data": {
      "text/plain": [
       "((5828, 13), (1457, 13))"
      ]
     },
     "execution_count": 20,
     "metadata": {},
     "output_type": "execute_result"
    }
   ],
   "source": [
    "x_train.shape, x_test.shape"
   ]
  },
  {
   "cell_type": "markdown",
   "id": "968874b4-f1ce-4d6f-ae96-1d272ef9fe89",
   "metadata": {},
   "source": [
    "4. Create Models and Evaluate"
   ]
  },
  {
   "cell_type": "code",
   "execution_count": 21,
   "id": "eeadfa40-aefc-45d5-a28e-b498a0c617f3",
   "metadata": {
    "tags": []
   },
   "outputs": [
    {
     "data": {
      "text/plain": [
       "0.8683467566952616"
      ]
     },
     "execution_count": 21,
     "metadata": {},
     "output_type": "execute_result"
    }
   ],
   "source": [
    "np.random.seed(36) #Seed to make our results re-producable\n",
    "\n",
    "model1 = LinearRegression()\n",
    "model1.fit(x_train,y_train)\n",
    "model1.score(x_test, y_test)"
   ]
  },
  {
   "cell_type": "code",
   "execution_count": 22,
   "id": "067f7caf-757f-4370-ad51-b14cedc066c3",
   "metadata": {
    "tags": []
   },
   "outputs": [
    {
     "data": {
      "text/plain": [
       "0.8684808209257243"
      ]
     },
     "execution_count": 22,
     "metadata": {},
     "output_type": "execute_result"
    }
   ],
   "source": [
    "np.random.seed(36) #Seed to make our results re-producable\n",
    "\n",
    "model2 = linear_model.Ridge(alpha=20)\n",
    "model2.fit(x_train,y_train)\n",
    "model2.score(x_test, y_test)"
   ]
  },
  {
   "cell_type": "code",
   "execution_count": 23,
   "id": "0eca71cf-d1e0-4071-9521-0a7bd896b243",
   "metadata": {
    "tags": []
   },
   "outputs": [
    {
     "data": {
      "text/plain": [
       "0.9796442009770847"
      ]
     },
     "execution_count": 23,
     "metadata": {},
     "output_type": "execute_result"
    }
   ],
   "source": [
    "np.random.seed(42)\n",
    "\n",
    "model3 = RandomForestRegressor()\n",
    "model3.fit(x_train,y_train)\n",
    "model3.score(x_test, y_test)"
   ]
  },
  {
   "cell_type": "markdown",
   "id": "4e9c5530-10fe-42d1-9a06-88cd5a80575b",
   "metadata": {},
   "source": [
    "out of 3, Random Forest gives us highest accuracy of 98%"
   ]
  },
  {
   "cell_type": "code",
   "execution_count": 24,
   "id": "a8fe6013-7750-4791-b1df-2116b1b8ea64",
   "metadata": {
    "tags": []
   },
   "outputs": [],
   "source": [
    "#Predicting values with our different models\n",
    "y_pred1 = model1.predict(x_test) #Predicted Values by Model1\n",
    "y_pred2 = model2.predict(x_test) #Predicted Values by Model2\n",
    "y_pred3 = model3.predict(x_test) #Predicted Values by Model3"
   ]
  },
  {
   "cell_type": "code",
   "execution_count": 25,
   "id": "dc7da38d-0e16-4bdf-a893-11ea900f6b3b",
   "metadata": {
    "tags": []
   },
   "outputs": [
    {
     "data": {
      "text/plain": [
       "<Axes: >"
      ]
     },
     "execution_count": 25,
     "metadata": {},
     "output_type": "execute_result"
    },
    {
     "data": {
      "image/png": "[encoded data removed]",
      "text/plain": [
       "<Figure size 800x550 with 1 Axes>"
      ]
     },
     "metadata": {},
     "output_type": "display_data"
    }
   ],
   "source": [
    "r2_scores = pd.DataFrame(data={\"LinearRegressor\":r2_score(y_test, y_pred1),\n",
    "             \"RidgeRegressor\":r2_score(y_test, y_pred2),\n",
    "             \"RandomForest\":r2_score(y_test, y_pred3)}, index = [\"R2_score\"])\n",
    "r2_scores.T.plot.bar(color='orange')"
   ]
  },
  {
   "cell_type": "markdown",
   "id": "138f6fd9-efef-4d30-b8fd-d323f074a7f4",
   "metadata": {},
   "source": [
    "Here, RF also has highest R2 score, which means it is doing good among the three."
   ]
  },
  {
   "cell_type": "code",
   "execution_count": 26,
   "id": "652ab3be-12d6-48bc-8fb5-f2173e69cb18",
   "metadata": {
    "tags": []
   },
   "outputs": [
    {
     "data": {
      "image/png": "[encoded data removed]",
      "text/plain": [
       "<Figure size 800x550 with 1 Axes>"
      ]
     },
     "metadata": {},
     "output_type": "display_data"
    }
   ],
   "source": [
    "mae_scores = pd.DataFrame(data={\"LinearRegressor\":mean_absolute_error(y_test, y_pred1),\n",
    "             \"RidgeRegressor\":mean_absolute_error(y_test, y_pred2),\n",
    "             \"RandomForest\":mean_absolute_error(y_test, y_pred3)}, index = [\"Mean Absolute Error\"])\n",
    "mae_scores.T.plot.bar(color='blue');"
   ]
  },
  {
   "cell_type": "markdown",
   "id": "509a7bf1-f833-4a71-88f6-ccbab9088ef4",
   "metadata": {},
   "source": [
    "Here again, MAE of RF is the lowest meaning it has lowest error among the three."
   ]
  },
  {
   "cell_type": "code",
   "execution_count": 27,
   "id": "079c7273-8726-47df-b898-bddba9c9b24d",
   "metadata": {
    "tags": []
   },
   "outputs": [
    {
     "data": {
      "image/png": "[encoded data removed]",
      "text/plain": [
       "<Figure size 800x550 with 1 Axes>"
      ]
     },
     "metadata": {},
     "output_type": "display_data"
    }
   ],
   "source": [
    "mse_scores = pd.DataFrame(data={\"LinearRegressor\":mean_squared_error(y_test, y_pred1),\n",
    "             \"RidgeRegressor\":mean_squared_error(y_test, y_pred2),\n",
    "             \"RandomForest\":mean_squared_error(y_test, y_pred3)}, index = [\"Mean Squared Error\"])\n",
    "mse_scores.T.plot.bar(color='pink');"
   ]
  },
  {
   "cell_type": "markdown",
   "id": "8474b50a-3b48-4cdd-831d-1dafdbb59bf5",
   "metadata": {},
   "source": [
    "Again, RF is doing better in MSE."
   ]
  },
  {
   "cell_type": "code",
   "execution_count": 28,
   "id": "d226d927-a877-4729-ac8d-f0e07bf52e91",
   "metadata": {
    "tags": []
   },
   "outputs": [],
   "source": [
    "model = model3 #RandomForest\n",
    "y_pred = y_pred3"
   ]
  },
  {
   "cell_type": "code",
   "execution_count": 29,
   "id": "0b730014-7529-4d7e-806d-c948aaea2f9c",
   "metadata": {
    "tags": []
   },
   "outputs": [
    {
     "data": {
      "text/html": [
       "<div>\n",
       "<style scoped>\n",
       "    .dataframe tbody tr th:only-of-type {\n",
       "        vertical-align: middle;\n",
       "    }\n",
       "\n",
       "    .dataframe tbody tr th {\n",
       "        vertical-align: top;\n",
       "    }\n",
       "\n",
       "    .dataframe thead th {\n",
       "        text-align: right;\n",
       "    }\n",
       "</style>\n",
       "<table border=\"1\" class=\"dataframe\">\n",
       "  <thead>\n",
       "    <tr style=\"text-align: right;\">\n",
       "      <th></th>\n",
       "      <th>Predicted</th>\n",
       "      <th>Original</th>\n",
       "      <th>Difference</th>\n",
       "    </tr>\n",
       "  </thead>\n",
       "  <tbody>\n",
       "    <tr>\n",
       "      <th>3043</th>\n",
       "      <td>626.073050</td>\n",
       "      <td>601.702029</td>\n",
       "      <td>24.371021</td>\n",
       "    </tr>\n",
       "    <tr>\n",
       "      <th>6998</th>\n",
       "      <td>70.659121</td>\n",
       "      <td>67.111502</td>\n",
       "      <td>3.547620</td>\n",
       "    </tr>\n",
       "    <tr>\n",
       "      <th>3290</th>\n",
       "      <td>445.014106</td>\n",
       "      <td>465.958329</td>\n",
       "      <td>-20.944222</td>\n",
       "    </tr>\n",
       "    <tr>\n",
       "      <th>3680</th>\n",
       "      <td>146.864556</td>\n",
       "      <td>137.973548</td>\n",
       "      <td>8.891008</td>\n",
       "    </tr>\n",
       "    <tr>\n",
       "      <th>2155</th>\n",
       "      <td>288.765595</td>\n",
       "      <td>294.034920</td>\n",
       "      <td>-5.269325</td>\n",
       "    </tr>\n",
       "  </tbody>\n",
       "</table>\n",
       "</div>"
      ],
      "text/plain": [
       "       Predicted    Original  Difference\n",
       "3043  626.073050  601.702029   24.371021\n",
       "6998   70.659121   67.111502    3.547620\n",
       "3290  445.014106  465.958329  -20.944222\n",
       "3680  146.864556  137.973548    8.891008\n",
       "2155  288.765595  294.034920   -5.269325"
      ]
     },
     "execution_count": 29,
     "metadata": {},
     "output_type": "execute_result"
    }
   ],
   "source": [
    "values = pd.DataFrame(data={\"Predicted\":y_pred,\"Original\":y_test,\"Difference\":y_pred-y_test})\n",
    "values.head()"
   ]
  },
  {
   "cell_type": "code",
   "execution_count": 30,
   "id": "8c49ebd9-f2b0-4e0d-9079-6b07959a8be4",
   "metadata": {
    "tags": []
   },
   "outputs": [
    {
     "data": {
      "image/png": "[encoded data removed]",
      "text/plain": [
       "<Figure size 500x500 with 1 Axes>"
      ]
     },
     "metadata": {},
     "output_type": "display_data"
    }
   ],
   "source": [
    "visualizer = PredictionError(model,size=(500,500))\n",
    "\n",
    "visualizer.fit(x_train, y_train)  # Fit the training data to the visualizer\n",
    "visualizer.score(x_test, y_test)  # Evaluate the model on the validation data\n",
    "visualizer.poof();"
   ]
  },
  {
   "cell_type": "markdown",
   "id": "93390c99-4e70-4550-83df-ee1ef8c65c1d",
   "metadata": {},
   "source": [
    "Here we can see 98% score in R Square and better visualize the best fit line."
   ]
  },
  {
   "cell_type": "code",
   "execution_count": 31,
   "id": "908c79b2-934c-4a1f-9746-4c7f5b9da3e1",
   "metadata": {
    "tags": []
   },
   "outputs": [
    {
     "data": {
      "text/plain": [
       "array([0.99152613, 0.94662341, 0.99557742])"
      ]
     },
     "execution_count": 31,
     "metadata": {},
     "output_type": "execute_result"
    }
   ],
   "source": [
    "np.random.seed(42)\n",
    "\n",
    "cross_val_score(model, X, Y, cv=3, scoring=None)"
   ]
  },
  {
   "cell_type": "markdown",
   "id": "11756e45-7470-423e-ae3f-8fc4ae478e88",
   "metadata": {},
   "source": [
    "cross_val_score takes different pairs of Test and Train data. And gives scores for them."
   ]
  }
 ],
 "metadata": {
  "kernelspec": {
   "display_name": "Python 3 (ipykernel)",
   "language": "python",
   "name": "python3"
  },
  "language_info": {
   "codemirror_mode": {
    "name": "ipython",
    "version": 3
   },
   "file_extension": ".py",
   "mimetype": "text/x-python",
   "name": "python",
   "nbconvert_exporter": "python",
   "pygments_lexer": "ipython3",
   "version": "3.11.4"
  }
 },
 "nbformat": 4,
 "nbformat_minor": 5
}
